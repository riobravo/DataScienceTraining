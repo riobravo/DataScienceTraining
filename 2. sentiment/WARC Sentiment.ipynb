{
 "metadata": {
  "name": ""
 },
 "nbformat": 3,
 "nbformat_minor": 0,
 "worksheets": [
  {
   "cells": [
    {
     "cell_type": "markdown",
     "metadata": {},
     "source": [
      "## Iterate over a WARC file to Extract Sentiment\n",
      "In this case we'll use the helper 'WET' format that has already removed HTML tags and leaves us with plain, parseable text.\n",
      "\n",
      "You may need to install this warc library:\n",
      "```bash\n",
      "pip install warc\n",
      "```"
     ]
    },
    {
     "cell_type": "code",
     "collapsed": false,
     "input": [
      "import warc\n",
      "import string\n",
      "from text import TextBlob"
     ],
     "language": "python",
     "metadata": {},
     "outputs": []
    },
    {
     "cell_type": "code",
     "collapsed": false,
     "input": [
      "# Download a WET File\n",
      "# http://aws-publicdatasets.s3.amazonaws.com/common-crawl/crawl-data/CC-MAIN-2013-48/segments/1386164789076/wet/CC-MAIN-20131204134629-00001-ip-10-33-133-15.ec2.internal.warc.wet.gz\n",
      "\n",
      "# Load a WET file here.  You can replace with any other WET of your choosing.\n",
      "f = warc.open(\"CC-MAIN-20131204134629-00001-ip-10-33-133-15.ec2.internal.warc.wet.gz\")"
     ],
     "language": "python",
     "metadata": {},
     "outputs": []
    },
    {
     "cell_type": "code",
     "collapsed": false,
     "input": [
      "# Let's write a function to extract the most negative sentence in any blob of text\n",
      "def extract(text):\n",
      "    blob = TextBlob(text)\n",
      "\n",
      "    output = []\n",
      "    for s in blob.sentences:\n",
      "        # Polarity (as opposed to subjectivity) tells us how positive/neutral/negative this sentence is\n",
      "        polarity = s.sentiment.polarity\n",
      "    \n",
      "        output.append( {'polarity' : polarity, 'sentence' : str(s) } )\n",
      "    output = sorted(output, key=lambda x: x['polarity'], reverse=True)\n",
      "    return output[-1]"
     ],
     "language": "python",
     "metadata": {},
     "outputs": []
    },
    {
     "cell_type": "code",
     "collapsed": false,
     "input": [
      "sentiment = {'polarity' : 0}\n",
      "\n",
      "while True:\n",
      "    # Read a record\n",
      "    r = f.read_record()\n",
      "    \n",
      "    # if there was no record, stop iterating\n",
      "    if not r:\n",
      "        break\n",
      "        \n",
      "    #print a processing indicator\n",
      "    domain = r.url.split('/')[2]\n",
      "    print 'processing domain: ', domain\n",
      "    \n",
      "    # Read the text\n",
      "    text = r.payload.read()\n",
      "    # Clean text (remove any non-ascii friendly characters)\n",
      "    text = filter(lambda x: x in string.printable, text)\n",
      "    \n",
      "    # Extract one sentiment dictionary from this text block\n",
      "    new_sentiment = extract(text)\n",
      "    \n",
      "    #Only record the worst\n",
      "    if new_sentiment['polarity'] < sentiment['polarity']:\n",
      "        sentiment = new_sentiment"
     ],
     "language": "python",
     "metadata": {},
     "outputs": []
    },
    {
     "cell_type": "code",
     "collapsed": false,
     "input": [
      "# Print the worst sentiment\n",
      "print sentiment"
     ],
     "language": "python",
     "metadata": {},
     "outputs": []
    }
   ],
   "metadata": {}
  }
 ]
}