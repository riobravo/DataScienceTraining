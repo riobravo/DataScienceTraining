{
 "metadata": {
  "name": ""
 },
 "nbformat": 3,
 "nbformat_minor": 0,
 "worksheets": [
  {
   "cells": [
    {
     "cell_type": "markdown",
     "metadata": {},
     "source": [
      "# Simple Sentiment Analysis\n",
      "This simple block will show how TextBlob can be used to parse keywords and sentiment from a single article.  You may need to install TextBlob from [here]( textblob.readthedocs.org) via:\n",
      "```bash\n",
      "pip install -U textblob\n",
      "python -m textblob.download_corpora\n",
      "```"
     ]
    },
    {
     "cell_type": "code",
     "collapsed": false,
     "input": [
      "from text import TextBlob"
     ],
     "language": "python",
     "metadata": {},
     "outputs": []
    },
    {
     "cell_type": "code",
     "collapsed": false,
     "input": [
      "# Load a recent CNN article\n",
      "data = open('cnn.txt','r').read()"
     ],
     "language": "python",
     "metadata": {},
     "outputs": []
    },
    {
     "cell_type": "code",
     "collapsed": true,
     "input": [
      "# Create a textblob object out of this data\n",
      "blob = TextBlob(data)"
     ],
     "language": "python",
     "metadata": {},
     "outputs": []
    },
    {
     "cell_type": "code",
     "collapsed": false,
     "input": [
      "# Let's store each of our analyzed blocks in an array we can use later\n",
      "output = []\n",
      "\n",
      "# Extract and iterate over each sentence\n",
      "for s in blob.sentences:\n",
      "\n",
      "    # Noun phrases help indicate the key objects in each sentence\n",
      "    phrases = s.noun_phrases\n",
      "    \n",
      "    # Polarity (as opposed to subjectivity) tells us how positive/neutral/negative this sentence is\n",
      "    polarity = s.sentiment.polarity\n",
      "\n",
      "    output.append( {'phrases' : phrases, 'polarity' : polarity, 'sentence' : str(s) } )"
     ],
     "language": "python",
     "metadata": {},
     "outputs": []
    },
    {
     "cell_type": "code",
     "collapsed": false,
     "input": [
      "# Let's sort this list\n",
      "from pprint import pprint\n",
      "output = sorted(output, key=lambda x: x['polarity'], reverse=True)\n",
      "\n",
      "# Now let's look at the most positive and least positive\n",
      "print 'most positive:'\n",
      "pprint(output[0])\n",
      "print 'most negative:' \n",
      "pprint(output[-1])"
     ],
     "language": "python",
     "metadata": {},
     "outputs": []
    },
    {
     "cell_type": "code",
     "collapsed": false,
     "input": [],
     "language": "python",
     "metadata": {},
     "outputs": []
    }
   ],
   "metadata": {}
  }
 ]
}