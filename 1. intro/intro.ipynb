{
 "metadata": {
  "name": ""
 },
 "nbformat": 3,
 "nbformat_minor": 0,
 "worksheets": [
  {
   "cells": [
    {
     "cell_type": "code",
     "collapsed": false,
     "input": [
      "import numpy as np\n",
      "import pandas as pd\n",
      "pd.set_option('display.precision', 2)\n",
      "\n",
      "import time\n",
      "import random\n",
      "from timeit import Timer"
     ],
     "language": "python",
     "metadata": {},
     "outputs": [],
     "prompt_number": 3
    },
    {
     "cell_type": "markdown",
     "metadata": {},
     "source": [
      "# The Case For Numpy"
     ]
    },
    {
     "cell_type": "code",
     "collapsed": false,
     "input": [
      "## List/Array Creation\n",
      "size = 10000000\n",
      "\n",
      "print 'Pythonic'\n",
      "%time py_list = [random.random() for i in range(size)]\n",
      "\n",
      "print '\\nNumpy'\n",
      "%time np_arr = np.random.randn(size)"
     ],
     "language": "python",
     "metadata": {},
     "outputs": [
      {
       "output_type": "stream",
       "stream": "stdout",
       "text": [
        "Pythonic\n",
        "CPU times: user 1.21 s, sys: 188 ms, total: 1.4 s"
       ]
      },
      {
       "output_type": "stream",
       "stream": "stdout",
       "text": [
        "\n",
        "Wall time: 1.4 s\n",
        "\n",
        "Numpy\n",
        "CPU times: user 280 ms, sys: 784 \u00b5s, total: 280 ms"
       ]
      },
      {
       "output_type": "stream",
       "stream": "stdout",
       "text": [
        "\n",
        "Wall time: 280 ms\n"
       ]
      }
     ],
     "prompt_number": 4
    },
    {
     "cell_type": "code",
     "collapsed": false,
     "input": [
      "## Find the Mean\n",
      "\n",
      "print 'Pythonic'\n",
      "%time print sum(py_list) / len(py_list)\n",
      "\n",
      "print '\\nNumpy'\n",
      "%time print np.mean(np_arr)"
     ],
     "language": "python",
     "metadata": {},
     "outputs": [
      {
       "output_type": "stream",
       "stream": "stdout",
       "text": [
        "Pythonic\n",
        "0.499934237397"
       ]
      },
      {
       "output_type": "stream",
       "stream": "stdout",
       "text": [
        "\n",
        "CPU times: user 96.4 ms, sys: 14.2 ms, total: 111 ms\n",
        "Wall time: 110 ms\n",
        "\n",
        "Numpy\n",
        "0.000232346338972\n",
        "CPU times: user 10.4 ms, sys: 365 \u00b5s, total: 10.8 ms\n",
        "Wall time: 10.3 ms\n"
       ]
      }
     ],
     "prompt_number": 5
    },
    {
     "cell_type": "markdown",
     "metadata": {},
     "source": [
      "# The Scientists Problem"
     ]
    },
    {
     "cell_type": "code",
     "collapsed": false,
     "input": [
      "from scipy import stats"
     ],
     "language": "python",
     "metadata": {},
     "outputs": [],
     "prompt_number": 6
    },
    {
     "cell_type": "code",
     "collapsed": false,
     "input": [
      "def checkDistribution(arr):\n",
      "    z, pval = stats.normaltest(arr)\n",
      "    is_normal = pval >= .055\n",
      "    print pval\n",
      "    if not is_normal:\n",
      "        print '...Distribution not normal!'\n",
      "    return is_normal"
     ],
     "language": "python",
     "metadata": {},
     "outputs": [],
     "prompt_number": 9
    },
    {
     "cell_type": "code",
     "collapsed": false,
     "input": [
      "checkDistribution(np_arr)"
     ],
     "language": "python",
     "metadata": {},
     "outputs": [
      {
       "output_type": "stream",
       "stream": "stdout",
       "text": [
        "0.0322932911666\n",
        "...Distribution not normal!\n"
       ]
      },
      {
       "metadata": {},
       "output_type": "pyout",
       "prompt_number": 11,
       "text": [
        "False"
       ]
      }
     ],
     "prompt_number": 11
    },
    {
     "cell_type": "code",
     "collapsed": false,
     "input": [
      "binomial_dist = np.random.binomial(10, .2, 5000)\n",
      "checkDistribution(binomial_dist)"
     ],
     "language": "python",
     "metadata": {},
     "outputs": [
      {
       "output_type": "stream",
       "stream": "stdout",
       "text": [
        "2.79632013737e-34\n",
        "...Distribution not normal!\n"
       ]
      },
      {
       "metadata": {},
       "output_type": "pyout",
       "prompt_number": 12,
       "text": [
        "False"
       ]
      }
     ],
     "prompt_number": 12
    },
    {
     "cell_type": "markdown",
     "metadata": {},
     "source": [
      "## Bringing it together with *Matplotlib*"
     ]
    },
    {
     "cell_type": "code",
     "collapsed": false,
     "input": [
      "%pylab inline\n",
      "pylab.rcParams['figure.figsize'] = (20.0, 10.0)\n",
      "\n",
      "import matplotlib.pyplot as plt\n",
      "\n",
      "f, (a1, a2) = plt.subplots(1,2)\n",
      "\n",
      "#subplot(111)\n",
      "a1.hist(np_arr)\n",
      "a1.set_title('Normal Distribution')\n",
      "\n",
      "#subplot(121)\n",
      "a2.set_title('Binomial Distribution')\n",
      "a2.hist(binomial_dist)\n",
      "f.show()"
     ],
     "language": "python",
     "metadata": {},
     "outputs": [
      {
       "output_type": "stream",
       "stream": "stderr",
       "text": [
        "WARNING: pylab import has clobbered these variables: ['random', 'size']\n",
        "`%pylab --no-import-all` prevents importing * from pylab and numpy\n",
        "//anaconda/lib/python2.7/site-packages/matplotlib/figure.py:371: UserWarning: matplotlib is currently using a non-GUI backend, so cannot show the figure\n",
        "  \"matplotlib is currently using a non-GUI backend, \"\n"
       ]
      },
      {
       "output_type": "stream",
       "stream": "stdout",
       "text": [
        "Populating the interactive namespace from numpy and matplotlib\n"
       ]
      },
      {
       "metadata": {},
       "output_type": "display_data",
       "png": "[encoded data removed]",
       "text": [
        "<matplotlib.figure.Figure at 0x131275150>"
       ]
      }
     ],
     "prompt_number": 13
    },
    {
     "cell_type": "markdown",
     "metadata": {},
     "source": [
      "### Where Notebooks Shine\n",
      "\n",
      "* update\n",
      "* our \n",
      "* markdown"
     ]
    },
    {
     "cell_type": "markdown",
     "metadata": {},
     "source": [
      "### Inline Documentation with Markdown\n",
      "\n",
      "* Inline notes are great\n",
      " * Keep track of everything\n",
      " * And keep your work in one place\n",
      " \n",
      "Notes are easy\n",
      "> To keep\n",
      "> Track of\n",
      "\n",
      "- [ ] teasks\n",
      "- [ ] teasks\n",
      "\n",
      "Hyperlinks to more of your notebooks: [like this](http://itds.jpl.nasa.gov)"
     ]
    },
    {
     "cell_type": "markdown",
     "metadata": {},
     "source": [
      "### Documented Code:\n",
      "```bash\n",
      "# Bash\n",
      "cat data.txt | grep 'witoff'\n",
      "```\n",
      "\n",
      "```java\n",
      "//Java\n",
      "class Rob(Person) {\n",
      "\n",
      "    static bool doYouRememberJavaSyntax() { \n",
      "        return true; \n",
      "    }\n",
      "\n",
      "}\n",
      "```\n",
      "\n",
      "```javascript\n",
      "//javascript\n",
      "function fancyAlert(arg) {\n",
      "  if(arg) {\n",
      "    $.facebox({div:'#foo'})\n",
      "  }\n",
      "}\n",
      "```\n",
      "\n",
      "\n",
      "### Inline Math Expressions for the mathematician in you\n",
      "$e^{i\\pi} + 1 = 0$\n",
      "\n",
      "$$e^x=\\sum_{i=0}^\\infty \\frac{1}{i!}x^i$$"
     ]
    },
    {
     "cell_type": "code",
     "collapsed": false,
     "input": [
      "from IPython.display import YouTubeVideo\n",
      "YouTubeVideo(\"_RFYoZ7H67A\")"
     ],
     "language": "python",
     "metadata": {},
     "outputs": [
      {
       "html": [
        "\n",
        "        <iframe\n",
        "            width=\"400\"\n",
        "            height=300\"\n",
        "            src=\"http://www.youtube.com/embed/_RFYoZ7H67A\"\n",
        "            frameborder=\"0\"\n",
        "            allowfullscreen\n",
        "        ></iframe>\n",
        "        "
       ],
       "metadata": {},
       "output_type": "pyout",
       "prompt_number": 14,
       "text": [
        "<IPython.lib.display.YouTubeVideo at 0x13113d750>"
       ]
      }
     ],
     "prompt_number": 14
    },
    {
     "cell_type": "code",
     "collapsed": false,
     "input": [
      "from datetime import timedelta\n",
      "start=int(timedelta(hours=1, minutes=46, seconds=40).total_seconds())\n",
      "\n",
      "YouTubeVideo(\"A3pBJTTjwCM\", start=start, autoplay=1, theme=\"light\", color=\"red\")"
     ],
     "language": "python",
     "metadata": {},
     "outputs": [
      {
       "html": [
        "\n",
        "        <iframe\n",
        "            width=\"400\"\n",
        "            height=300\"\n",
        "            src=\"http://www.youtube.com/embed/A3pBJTTjwCM?color=red&start=6400&theme=light&autoplay=1\"\n",
        "            frameborder=\"0\"\n",
        "            allowfullscreen\n",
        "        ></iframe>\n",
        "        "
       ],
       "metadata": {},
       "output_type": "pyout",
       "prompt_number": 15,
       "text": [
        "<IPython.lib.display.YouTubeVideo at 0x13113dd50>"
       ]
      }
     ],
     "prompt_number": 15
    },
    {
     "cell_type": "markdown",
     "metadata": {},
     "source": [
      "# Raw HTML\n",
      "\n",
      "If you have local files in your Notebook directory, you can refer to these files in Markdown cells via relative URLs that are prefixed with `files/`:\n",
      "\n",
      "    files/[subdirectory/]<filename>\n",
      "\n",
      "For example, in the example Notebook folder, we have the Python logo:\n",
      "\n",
      "    <img src=\"files/python-logo.svg\" />\n",
      "\n",
      "<img src=\"files/meatball.png\" width=\"500px\" />\n",
      "\n",
      "and a video with the HTML5 video tag:\n",
      "\n",
      "    <video controls src=\"http://localhost:8001/videos/091103sts129tcdtoutHD.mp4\" />\n",
      "\n",
      "<video controls src=\"http://localhost:8000/videos/091103sts129tcdtoutHD.mp4\" width=\"800px\"  />\n",
      "\n",
      "<!--/Users/witoff/Desktop/JPL/Projects/OPALS/Notes/ISS/Technical/media/videos091103sts129tcdtoutHD.mp4-->\n",
      "These do not embed the data into the notebook file, and require that the files exist when you are viewing the notebook."
     ]
    },
    {
     "cell_type": "markdown",
     "metadata": {},
     "source": [
      "# Seamless Local Ops With a Bang"
     ]
    },
    {
     "cell_type": "code",
     "collapsed": false,
     "input": [
      "# Local Operations with '!'\n",
      "#! ls -al\n",
      "! git status"
     ],
     "language": "python",
     "metadata": {},
     "outputs": [
      {
       "output_type": "stream",
       "stream": "stdout",
       "text": [
        "On branch master\r\n",
        "Your branch is up-to-date with 'origin/master'.\r\n",
        "\r\n",
        "Changes to be committed:\r\n",
        "  (use \"git reset HEAD <file>...\" to unstage)\r\n",
        "\r\n",
        "\t\u001b[32mnew file:   ../2. sentiment/SimpleSentiment.ipynb\u001b[m\r\n",
        "\t\u001b[32mnew file:   ../2. sentiment/WARC Sentiment.ipynb\u001b[m\r\n",
        "\t\u001b[32mnew file:   ../3. sentiment analytics/SimpleSentiment.ipynb\u001b[m\r\n",
        "\t\u001b[32mnew file:   ../3. sentiment analytics/WARC Sentiment.ipynb\u001b[m\r\n",
        "\t\u001b[32mnew file:   ../4. viz/Visual Sentiment.ipynb\u001b[m\r\n",
        "\t\u001b[32mnew file:   ../4. viz/d3.v3.min.js\u001b[m\r\n",
        "\t\u001b[32mnew file:   ../4. viz/data.json\u001b[m\r\n",
        "\t\u001b[32mnew file:   ../4. viz/index.html\u001b[m\r\n",
        "\t\u001b[32mnew file:   ../4. viz/startserver.py\u001b[m\r\n",
        "\t\u001b[32mnew file:   ../4. viz/visual_sentiment.json\u001b[m\r\n",
        "\r\n",
        "Changes not staged for commit:\r\n",
        "  (use \"git add <file>...\" to update what will be committed)\r\n",
        "  (use \"git checkout -- <file>...\" to discard changes in working directory)\r\n",
        "\r\n",
        "\t\u001b[31mmodified:   intro.ipynb\u001b[m\r\n",
        "\r\n",
        "Untracked files:\r\n",
        "  (use \"git add <file>...\" to include in what will be committed)\r\n",
        "\r\n",
        "\t\u001b[31mUntitled0.ipynb\u001b[m\r\n",
        "\r\n"
       ]
      }
     ],
     "prompt_number": 20
    },
    {
     "cell_type": "code",
     "collapsed": false,
     "input": [
      "# Access values with double bang\n",
      "p = !! ls\n",
      "print p"
     ],
     "language": "python",
     "metadata": {},
     "outputs": [
      {
       "output_type": "stream",
       "stream": "stdout",
       "text": [
        "['Untitled0.ipynb', 'cnn.txt', 'intro.ipynb']\n"
       ]
      }
     ],
     "prompt_number": 22
    },
    {
     "cell_type": "code",
     "collapsed": false,
     "input": [
      "!! git status"
     ],
     "language": "python",
     "metadata": {},
     "outputs": []
    },
    {
     "cell_type": "markdown",
     "metadata": {},
     "source": [
      "# Pulling it together: _Pandas_"
     ]
    },
    {
     "cell_type": "code",
     "collapsed": false,
     "input": [
      "import pandas as pd\n",
      "import requests\n",
      "import zipfile\n",
      "from StringIO import StringIO"
     ],
     "language": "python",
     "metadata": {},
     "outputs": [],
     "prompt_number": 23
    },
    {
     "cell_type": "code",
     "collapsed": false,
     "input": [
      "#Download Some Data\n",
      "filename = 'names.zip'\n",
      "r = requests.get('http://www.census.gov/genealogy/www/data/2000surnames/names.zip', stream=True)\n",
      "with open(filename, 'wb') as f:\n",
      "    for chunk in r.iter_content(chunk_size=1024): \n",
      "        if chunk: # filter out keep-alive new chunks\n",
      "            f.write(chunk)\n",
      "            f.flush()"
     ],
     "language": "python",
     "metadata": {},
     "outputs": [],
     "prompt_number": 24
    },
    {
     "cell_type": "code",
     "collapsed": false,
     "input": [
      "zf = zipfile.ZipFile(filename)\n",
      "data = zf.read('app_c.csv')"
     ],
     "language": "python",
     "metadata": {},
     "outputs": [],
     "prompt_number": 25
    },
    {
     "cell_type": "code",
     "collapsed": false,
     "input": [
      "df = pd.read_csv(StringIO(data))"
     ],
     "language": "python",
     "metadata": {},
     "outputs": [],
     "prompt_number": 26
    },
    {
     "cell_type": "code",
     "collapsed": false,
     "input": [
      "df.head(10).sort('pctapi')"
     ],
     "language": "python",
     "metadata": {},
     "outputs": [
      {
       "html": [
        "<div style=\"max-height:1000px;max-width:1500px;overflow:auto;\">\n",
        "<table border=\"1\" class=\"dataframe\">\n",
        "  <thead>\n",
        "    <tr style=\"text-align: right;\">\n",
        "      <th></th>\n",
        "      <th>name</th>\n",
        "      <th>rank</th>\n",
        "      <th>count</th>\n",
        "      <th>prop100k</th>\n",
        "      <th>cum_prop100k</th>\n",
        "      <th>pctwhite</th>\n",
        "      <th>pctblack</th>\n",
        "      <th>pctapi</th>\n",
        "      <th>pctaian</th>\n",
        "      <th>pct2prace</th>\n",
        "      <th>pcthispanic</th>\n",
        "    </tr>\n",
        "  </thead>\n",
        "  <tbody>\n",
        "    <tr>\n",
        "      <th>4</th>\n",
        "      <td>     JONES</td>\n",
        "      <td>  5</td>\n",
        "      <td> 1362755</td>\n",
        "      <td> 505.2</td>\n",
        "      <td> 3154.8</td>\n",
        "      <td> 57.69</td>\n",
        "      <td> 37.73</td>\n",
        "      <td> 0.35</td>\n",
        "      <td> 0.94</td>\n",
        "      <td> 1.85</td>\n",
        "      <td>  1.44</td>\n",
        "    </tr>\n",
        "    <tr>\n",
        "      <th>2</th>\n",
        "      <td>  WILLIAMS</td>\n",
        "      <td>  3</td>\n",
        "      <td> 1534042</td>\n",
        "      <td> 568.7</td>\n",
        "      <td> 2138.0</td>\n",
        "      <td> 48.52</td>\n",
        "      <td> 46.72</td>\n",
        "      <td> 0.37</td>\n",
        "      <td> 0.78</td>\n",
        "      <td> 2.01</td>\n",
        "      <td>  1.60</td>\n",
        "    </tr>\n",
        "    <tr>\n",
        "      <th>0</th>\n",
        "      <td>     SMITH</td>\n",
        "      <td>  1</td>\n",
        "      <td> 2376206</td>\n",
        "      <td> 880.9</td>\n",
        "      <td>  880.9</td>\n",
        "      <td> 73.35</td>\n",
        "      <td> 22.22</td>\n",
        "      <td> 0.40</td>\n",
        "      <td> 0.85</td>\n",
        "      <td> 1.63</td>\n",
        "      <td>  1.56</td>\n",
        "    </tr>\n",
        "    <tr>\n",
        "      <th>6</th>\n",
        "      <td>     DAVIS</td>\n",
        "      <td>  7</td>\n",
        "      <td> 1072335</td>\n",
        "      <td> 397.5</td>\n",
        "      <td> 3970.3</td>\n",
        "      <td> 64.73</td>\n",
        "      <td> 30.77</td>\n",
        "      <td> 0.40</td>\n",
        "      <td> 0.79</td>\n",
        "      <td> 1.73</td>\n",
        "      <td>  1.58</td>\n",
        "    </tr>\n",
        "    <tr>\n",
        "      <th>3</th>\n",
        "      <td>     BROWN</td>\n",
        "      <td>  4</td>\n",
        "      <td> 1380145</td>\n",
        "      <td> 511.6</td>\n",
        "      <td> 2649.6</td>\n",
        "      <td> 60.71</td>\n",
        "      <td> 34.54</td>\n",
        "      <td> 0.41</td>\n",
        "      <td> 0.83</td>\n",
        "      <td> 1.86</td>\n",
        "      <td>  1.64</td>\n",
        "    </tr>\n",
        "    <tr>\n",
        "      <th>5</th>\n",
        "      <td>    MILLER</td>\n",
        "      <td>  6</td>\n",
        "      <td> 1127803</td>\n",
        "      <td> 418.1</td>\n",
        "      <td> 3572.8</td>\n",
        "      <td> 85.81</td>\n",
        "      <td> 10.41</td>\n",
        "      <td> 0.42</td>\n",
        "      <td> 0.63</td>\n",
        "      <td> 1.31</td>\n",
        "      <td>  1.43</td>\n",
        "    </tr>\n",
        "    <tr>\n",
        "      <th>1</th>\n",
        "      <td>   JOHNSON</td>\n",
        "      <td>  2</td>\n",
        "      <td> 1857160</td>\n",
        "      <td> 688.4</td>\n",
        "      <td> 1569.3</td>\n",
        "      <td> 61.55</td>\n",
        "      <td> 33.80</td>\n",
        "      <td> 0.42</td>\n",
        "      <td> 0.91</td>\n",
        "      <td> 1.82</td>\n",
        "      <td>  1.50</td>\n",
        "    </tr>\n",
        "    <tr>\n",
        "      <th>9</th>\n",
        "      <td>    WILSON</td>\n",
        "      <td> 10</td>\n",
        "      <td>  783051</td>\n",
        "      <td> 290.3</td>\n",
        "      <td> 4876.9</td>\n",
        "      <td> 69.72</td>\n",
        "      <td> 25.32</td>\n",
        "      <td> 0.46</td>\n",
        "      <td> 1.03</td>\n",
        "      <td> 1.74</td>\n",
        "      <td>  1.73</td>\n",
        "    </tr>\n",
        "    <tr>\n",
        "      <th>8</th>\n",
        "      <td> RODRIGUEZ</td>\n",
        "      <td>  9</td>\n",
        "      <td>  804240</td>\n",
        "      <td> 298.1</td>\n",
        "      <td> 4586.6</td>\n",
        "      <td>  5.52</td>\n",
        "      <td>  0.54</td>\n",
        "      <td> 0.58</td>\n",
        "      <td> 0.24</td>\n",
        "      <td> 0.41</td>\n",
        "      <td> 92.70</td>\n",
        "    </tr>\n",
        "    <tr>\n",
        "      <th>7</th>\n",
        "      <td>    GARCIA</td>\n",
        "      <td>  8</td>\n",
        "      <td>  858289</td>\n",
        "      <td> 318.2</td>\n",
        "      <td> 4288.5</td>\n",
        "      <td>  6.17</td>\n",
        "      <td>  0.49</td>\n",
        "      <td> 1.43</td>\n",
        "      <td> 0.58</td>\n",
        "      <td> 0.51</td>\n",
        "      <td> 90.81</td>\n",
        "    </tr>\n",
        "  </tbody>\n",
        "</table>\n",
        "<p>10 rows \u00d7 11 columns</p>\n",
        "</div>"
       ],
       "metadata": {},
       "output_type": "pyout",
       "prompt_number": 28,
       "text": [
        "        name  rank    count  prop100k  cum_prop100k pctwhite pctblack pctapi  \\\n",
        "4      JONES     5  1362755     505.2        3154.8    57.69    37.73   0.35   \n",
        "2   WILLIAMS     3  1534042     568.7        2138.0    48.52    46.72   0.37   \n",
        "0      SMITH     1  2376206     880.9         880.9    73.35    22.22   0.40   \n",
        "6      DAVIS     7  1072335     397.5        3970.3    64.73    30.77   0.40   \n",
        "3      BROWN     4  1380145     511.6        2649.6    60.71    34.54   0.41   \n",
        "5     MILLER     6  1127803     418.1        3572.8    85.81    10.41   0.42   \n",
        "1    JOHNSON     2  1857160     688.4        1569.3    61.55    33.80   0.42   \n",
        "9     WILSON    10   783051     290.3        4876.9    69.72    25.32   0.46   \n",
        "8  RODRIGUEZ     9   804240     298.1        4586.6     5.52     0.54   0.58   \n",
        "7     GARCIA     8   858289     318.2        4288.5     6.17     0.49   1.43   \n",
        "\n",
        "  pctaian pct2prace pcthispanic  \n",
        "4    0.94      1.85        1.44  \n",
        "2    0.78      2.01        1.60  \n",
        "0    0.85      1.63        1.56  \n",
        "6    0.79      1.73        1.58  \n",
        "3    0.83      1.86        1.64  \n",
        "5    0.63      1.31        1.43  \n",
        "1    0.91      1.82        1.50  \n",
        "9    1.03      1.74        1.73  \n",
        "8    0.24      0.41       92.70  \n",
        "7    0.58      0.51       90.81  \n",
        "\n",
        "[10 rows x 11 columns]"
       ]
      }
     ],
     "prompt_number": 28
    },
    {
     "cell_type": "code",
     "collapsed": false,
     "input": [
      "df.describe()"
     ],
     "language": "python",
     "metadata": {},
     "outputs": [
      {
       "html": [
        "<div style=\"max-height:1000px;max-width:1500px;overflow:auto;\">\n",
        "<table border=\"1\" class=\"dataframe\">\n",
        "  <thead>\n",
        "    <tr style=\"text-align: right;\">\n",
        "      <th></th>\n",
        "      <th>rank</th>\n",
        "      <th>count</th>\n",
        "      <th>prop100k</th>\n",
        "      <th>cum_prop100k</th>\n",
        "    </tr>\n",
        "  </thead>\n",
        "  <tbody>\n",
        "    <tr>\n",
        "      <th>count</th>\n",
        "      <td> 151671.0</td>\n",
        "      <td>  151671.0</td>\n",
        "      <td> 151671.0</td>\n",
        "      <td> 151671.0</td>\n",
        "    </tr>\n",
        "    <tr>\n",
        "      <th>mean</th>\n",
        "      <td>  75649.5</td>\n",
        "      <td>    1596.4</td>\n",
        "      <td>      0.6</td>\n",
        "      <td>  82520.6</td>\n",
        "    </tr>\n",
        "    <tr>\n",
        "      <th>std</th>\n",
        "      <td>  43614.4</td>\n",
        "      <td>   16338.7</td>\n",
        "      <td>      6.1</td>\n",
        "      <td>   8902.4</td>\n",
        "    </tr>\n",
        "    <tr>\n",
        "      <th>min</th>\n",
        "      <td>      1.0</td>\n",
        "      <td>     100.0</td>\n",
        "      <td>      0.0</td>\n",
        "      <td>    880.9</td>\n",
        "    </tr>\n",
        "    <tr>\n",
        "      <th>25%</th>\n",
        "      <td>  37881.0</td>\n",
        "      <td>     143.0</td>\n",
        "      <td>      0.1</td>\n",
        "      <td>  80519.2</td>\n",
        "    </tr>\n",
        "    <tr>\n",
        "      <th>50%</th>\n",
        "      <td>  75695.0</td>\n",
        "      <td>     237.0</td>\n",
        "      <td>      0.1</td>\n",
        "      <td>  85509.7</td>\n",
        "    </tr>\n",
        "    <tr>\n",
        "      <th>75%</th>\n",
        "      <td> 113519.0</td>\n",
        "      <td>     551.0</td>\n",
        "      <td>      0.2</td>\n",
        "      <td>  88079.5</td>\n",
        "    </tr>\n",
        "    <tr>\n",
        "      <th>max</th>\n",
        "      <td> 150436.0</td>\n",
        "      <td> 2376206.0</td>\n",
        "      <td>    880.9</td>\n",
        "      <td>  89753.6</td>\n",
        "    </tr>\n",
        "  </tbody>\n",
        "</table>\n",
        "<p>8 rows \u00d7 4 columns</p>\n",
        "</div>"
       ],
       "metadata": {},
       "output_type": "pyout",
       "prompt_number": 29,
       "text": [
        "           rank      count  prop100k  cum_prop100k\n",
        "count  151671.0   151671.0  151671.0      151671.0\n",
        "mean    75649.5     1596.4       0.6       82520.6\n",
        "std     43614.4    16338.7       6.1        8902.4\n",
        "min         1.0      100.0       0.0         880.9\n",
        "25%     37881.0      143.0       0.1       80519.2\n",
        "50%     75695.0      237.0       0.1       85509.7\n",
        "75%    113519.0      551.0       0.2       88079.5\n",
        "max    150436.0  2376206.0     880.9       89753.6\n",
        "\n",
        "[8 rows x 4 columns]"
       ]
      }
     ],
     "prompt_number": 29
    },
    {
     "cell_type": "markdown",
     "metadata": {},
     "source": [
      "### How many people are listed in here?"
     ]
    },
    {
     "cell_type": "code",
     "collapsed": false,
     "input": [
      "df['count'].sum()"
     ],
     "language": "python",
     "metadata": {},
     "outputs": [
      {
       "metadata": {},
       "output_type": "pyout",
       "prompt_number": 30,
       "text": [
        "242121073"
       ]
      }
     ],
     "prompt_number": 30
    },
    {
     "cell_type": "markdown",
     "metadata": {},
     "source": [
      "### What is the most diverse name?"
     ]
    },
    {
     "cell_type": "code",
     "collapsed": false,
     "input": [
      "# Remove columnts with strings instead of floats\n",
      "cols = ['pctwhite', 'pctblack', 'pctapi', 'pctaian', 'pcthispanic' ]\n",
      "\n",
      "for c in cols:\n",
      "    subset = df[c] != '(S)'\n",
      "    df = df[subset]"
     ],
     "language": "python",
     "metadata": {},
     "outputs": [],
     "prompt_number": 32
    },
    {
     "cell_type": "code",
     "collapsed": false,
     "input": [
      "# Identify name with the least variance\n",
      "variance_series = df[cols].astype(float).var(axis=1)\n",
      "\n",
      "# Add our new series\n",
      "df['variance'] = variance_series\n",
      "\n",
      "print 'The least diverse last names are: '\n",
      "\n",
      "# Sort by our new variance parameter and show the first 5 elements\n",
      "df.sort('variance').tail(5)"
     ],
     "language": "python",
     "metadata": {},
     "outputs": [
      {
       "output_type": "stream",
       "stream": "stdout",
       "text": [
        "The least diverse last names are: \n"
       ]
      },
      {
       "html": [
        "<div style=\"max-height:1000px;max-width:1500px;overflow:auto;\">\n",
        "<table border=\"1\" class=\"dataframe\">\n",
        "  <thead>\n",
        "    <tr style=\"text-align: right;\">\n",
        "      <th></th>\n",
        "      <th>name</th>\n",
        "      <th>rank</th>\n",
        "      <th>count</th>\n",
        "      <th>prop100k</th>\n",
        "      <th>cum_prop100k</th>\n",
        "      <th>pctwhite</th>\n",
        "      <th>pctblack</th>\n",
        "      <th>pctapi</th>\n",
        "      <th>pctaian</th>\n",
        "      <th>pct2prace</th>\n",
        "      <th>pcthispanic</th>\n",
        "      <th>variance</th>\n",
        "    </tr>\n",
        "  </thead>\n",
        "  <tbody>\n",
        "    <tr>\n",
        "      <th>129595</th>\n",
        "      <td>     WISCAVER</td>\n",
        "      <td> 128797</td>\n",
        "      <td> 122</td>\n",
        "      <td> 0.1</td>\n",
        "      <td> 88854.1</td>\n",
        "      <td> 99.00</td>\n",
        "      <td> 0.00</td>\n",
        "      <td> 0.00</td>\n",
        "      <td> 0.00</td>\n",
        "      <td> 0.00</td>\n",
        "      <td> 0.00</td>\n",
        "      <td> 1960.2</td>\n",
        "    </tr>\n",
        "    <tr>\n",
        "      <th>129594</th>\n",
        "      <td>      WIRTALA</td>\n",
        "      <td> 128797</td>\n",
        "      <td> 122</td>\n",
        "      <td> 0.1</td>\n",
        "      <td> 88854.1</td>\n",
        "      <td> 99.00</td>\n",
        "      <td> 0.00</td>\n",
        "      <td> 0.00</td>\n",
        "      <td> 0.00</td>\n",
        "      <td> 0.00</td>\n",
        "      <td> 0.00</td>\n",
        "      <td> 1960.2</td>\n",
        "    </tr>\n",
        "    <tr>\n",
        "      <th>129588</th>\n",
        "      <td>       WERGES</td>\n",
        "      <td> 128797</td>\n",
        "      <td> 122</td>\n",
        "      <td> 0.1</td>\n",
        "      <td> 88853.8</td>\n",
        "      <td> 99.00</td>\n",
        "      <td> 0.00</td>\n",
        "      <td> 0.00</td>\n",
        "      <td> 0.00</td>\n",
        "      <td> 0.00</td>\n",
        "      <td> 0.00</td>\n",
        "      <td> 1960.2</td>\n",
        "    </tr>\n",
        "    <tr>\n",
        "      <th>129679</th>\n",
        "      <td> BLANKENBEKER</td>\n",
        "      <td> 129619</td>\n",
        "      <td> 121</td>\n",
        "      <td> 0.0</td>\n",
        "      <td> 88857.9</td>\n",
        "      <td> 99.00</td>\n",
        "      <td> 0.00</td>\n",
        "      <td> 0.00</td>\n",
        "      <td> 0.00</td>\n",
        "      <td> 0.00</td>\n",
        "      <td> 0.00</td>\n",
        "      <td> 1960.2</td>\n",
        "    </tr>\n",
        "    <tr>\n",
        "      <th>151670</th>\n",
        "      <td>         ZUSI</td>\n",
        "      <td> 150436</td>\n",
        "      <td> 100</td>\n",
        "      <td> 0.0</td>\n",
        "      <td> 89753.6</td>\n",
        "      <td> 99.00</td>\n",
        "      <td> 0.00</td>\n",
        "      <td> 0.00</td>\n",
        "      <td> 0.00</td>\n",
        "      <td> 0.00</td>\n",
        "      <td> 0.00</td>\n",
        "      <td> 1960.2</td>\n",
        "    </tr>\n",
        "  </tbody>\n",
        "</table>\n",
        "<p>5 rows \u00d7 12 columns</p>\n",
        "</div>"
       ],
       "metadata": {},
       "output_type": "pyout",
       "prompt_number": 33,
       "text": [
        "                name    rank  count  prop100k  cum_prop100k pctwhite pctblack  \\\n",
        "129595      WISCAVER  128797    122       0.1       88854.1    99.00     0.00   \n",
        "129594       WIRTALA  128797    122       0.1       88854.1    99.00     0.00   \n",
        "129588        WERGES  128797    122       0.1       88853.8    99.00     0.00   \n",
        "129679  BLANKENBEKER  129619    121       0.0       88857.9    99.00     0.00   \n",
        "151670          ZUSI  150436    100       0.0       89753.6    99.00     0.00   \n",
        "\n",
        "       pctapi pctaian pct2prace pcthispanic  variance  \n",
        "129595   0.00    0.00      0.00        0.00    1960.2  \n",
        "129594   0.00    0.00      0.00        0.00    1960.2  \n",
        "129588   0.00    0.00      0.00        0.00    1960.2  \n",
        "129679   0.00    0.00      0.00        0.00    1960.2  \n",
        "151670   0.00    0.00      0.00        0.00    1960.2  \n",
        "\n",
        "[5 rows x 12 columns]"
       ]
      }
     ],
     "prompt_number": 33
    },
    {
     "cell_type": "code",
     "collapsed": false,
     "input": [
      "plt = df['variance'].hist()\n",
      "plt.set_title('Variances Binned')"
     ],
     "language": "python",
     "metadata": {},
     "outputs": [
      {
       "metadata": {},
       "output_type": "pyout",
       "prompt_number": 34,
       "text": [
        "<matplotlib.text.Text at 0x110d5b950>"
       ]
      },
      {
       "metadata": {},
       "output_type": "display_data",
       "png": "[encoded data removed]",
       "text": [
        "<matplotlib.figure.Figure at 0x13113d650>"
       ]
      }
     ],
     "prompt_number": 34
    },
    {
     "cell_type": "markdown",
     "metadata": {},
     "source": [
      "# Notebook Architecture FTW"
     ]
    },
    {
     "cell_type": "markdown",
     "metadata": {},
     "source": [
      "### What happens when data gets big?\n",
      "Remote iPython clusters!"
     ]
    },
    {
     "cell_type": "code",
     "collapsed": false,
     "input": [
      "! git add ../2*"
     ],
     "language": "python",
     "metadata": {},
     "outputs": [],
     "prompt_number": 37
    },
    {
     "cell_type": "code",
     "collapsed": false,
     "input": [
      "! git commit -a -m \"adding remainder of files for tutorial\""
     ],
     "language": "python",
     "metadata": {},
     "outputs": [
      {
       "output_type": "stream",
       "stream": "stdout",
       "text": [
        "[master 0ab9888] adding remainder of files for tutorial\r\n",
        " Committer: Robert Witoff <witoff@Roberts-MacBook-Pro.local>\r\n",
        "Your name and email address were configured automatically based\r\n",
        "on your username and hostname. Please check that they are accurate.\r\n",
        "You can suppress this message by setting them explicitly:\r\n",
        "\r\n",
        "    git config --global user.name \"Your Name\"\r\n",
        "    git config --global user.email you@example.com\r\n",
        "\r\n",
        "After doing this, you may fix the identity used for this commit with:\r\n",
        "\r\n",
        "    git commit --amend --reset-author\r\n",
        "\r\n",
        " 11 files changed, 3322 insertions(+), 184 deletions(-)\r\n",
        " create mode 100644 2. sentiment/SimpleSentiment.ipynb\r\n",
        " create mode 100644 2. sentiment/WARC Sentiment.ipynb\r\n",
        " create mode 100644 3. sentiment analytics/SimpleSentiment.ipynb\r\n",
        " create mode 100644 3. sentiment analytics/WARC Sentiment.ipynb\r\n",
        " create mode 100644 4. viz/Visual Sentiment.ipynb\r\n",
        " create mode 100644 4. viz/d3.v3.min.js\r\n",
        " create mode 100644 4. viz/data.json\r\n",
        " create mode 100644 4. viz/index.html\r\n",
        " create mode 100755 4. viz/startserver.py\r\n",
        " create mode 100644 4. viz/visual_sentiment.json\r\n"
       ]
      }
     ],
     "prompt_number": 39
    },
    {
     "cell_type": "code",
     "collapsed": false,
     "input": [
      "! git push\n"
     ],
     "language": "python",
     "metadata": {},
     "outputs": [
      {
       "output_type": "stream",
       "stream": "stdout",
       "text": [
        "warning: push.default is unset; its implicit value is changing in\r\n",
        "Git 2.0 from 'matching' to 'simple'. To squelch this message\r\n",
        "and maintain the current behavior after the default changes, use:\r\n",
        "\r\n",
        "  git config --global push.default matching\r\n",
        "\r\n",
        "To squelch this message and adopt the new behavior now, use:\r\n",
        "\r\n",
        "  git config --global push.default simple\r\n",
        "\r\n",
        "See 'git help config' and search for 'push.default' for further information.\r\n",
        "(the 'simple' mode was introduced in Git 1.7.11. Use the similar mode\r\n",
        "'current' instead of 'simple' if you sometimes use older versions of Git)\r\n",
        "\r\n"
       ]
      },
      {
       "output_type": "stream",
       "stream": "stdout",
       "text": [
        "Counting objects: 17, done.\r\n",
        "Delta compression using up to 8 threads.\r\n",
        "Compressing objects:   7% (1/13)   \r",
        "Compressing objects:  15% (2/13)   \r",
        "Compressing objects:  23% (3/13)   \r",
        "Compressing objects:  30% (4/13)   \r",
        "Compressing objects:  38% (5/13)   \r",
        "Compressing objects:  46% (6/13)   \r",
        "Compressing objects:  53% (7/13)   \r",
        "Compressing objects:  61% (8/13)   \r",
        "Compressing objects:  69% (9/13)   \r",
        "Compressing objects:  76% (10/13)   \r",
        "Compressing objects:  84% (11/13)   \r",
        "Compressing objects:  92% (12/13)   \r",
        "Compressing objects: 100% (13/13)   \r",
        "Compressing objects: 100% (13/13), done.\r\n",
        "Writing objects:   7% (1/14)   \r",
        "Writing objects:  14% (2/14)   \r",
        "Writing objects:  21% (3/14)   \r",
        "Writing objects:  28% (4/14)   \r",
        "Writing objects:  35% (5/14)   \r",
        "Writing objects:  50% (7/14)   \r",
        "Writing objects:  57% (8/14)   \r",
        "Writing objects:  64% (9/14)   \r",
        "Writing objects:  71% (10/14)   \r",
        "Writing objects:  78% (11/14)   \r",
        "Writing objects:  85% (12/14)   \r",
        "Writing objects:  92% (13/14)   \r"
       ]
      },
      {
       "output_type": "stream",
       "stream": "stdout",
       "text": [
        "Writing objects: 100% (14/14)   \r",
        "Writing objects: 100% (14/14), 139.66 KiB | 0 bytes/s, done.\r\n",
        "Total 14 (delta 3), reused 0 (delta 0)\r\n"
       ]
      },
      {
       "output_type": "stream",
       "stream": "stdout",
       "text": [
        "To https://github.com/witoff/DataScienceTraining.git\r\n",
        "   de2baa2..0ab9888  master -> master\r\n"
       ]
      }
     ],
     "prompt_number": 40
    },
    {
     "cell_type": "code",
     "collapsed": false,
     "input": [],
     "language": "python",
     "metadata": {},
     "outputs": []
    }
   ],
   "metadata": {}
  }
 ]
}